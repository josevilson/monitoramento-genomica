{
 "cells": [
  {
   "cell_type": "code",
   "execution_count": 0,
   "metadata": {
    "application/vnd.databricks.v1+cell": {
     "cellMetadata": {
      "byteLimit": 2048000,
      "rowLimit": 10000
     },
     "inputWidgets": {},
     "nuid": "5a085b69-12c9-4159-a800-96c75745d27d",
     "showTitle": false,
     "title": ""
    }
   },
   "outputs": [],
   "source": [
    "\n",
    "import requests\n",
    "from pyspark.sql.functions import *\n",
    "from delta.tables import DeltaTable\n",
    "from pyspark.sql import functions as F\n",
    "\n",
    "\n",
    "API_KEY = '5220c4535529484381b6e56b7f95b0aa'"
   ]
  },
  {
   "cell_type": "code",
   "execution_count": 0,
   "metadata": {
    "application/vnd.databricks.v1+cell": {
     "cellMetadata": {},
     "inputWidgets": {},
     "nuid": "10e5227d-9427-4a1d-ac0d-f25e980ec4e2",
     "showTitle": false,
     "title": ""
    }
   },
   "outputs": [],
   "source": []
  },
  {
   "cell_type": "code",
   "execution_count": 0,
   "metadata": {
    "application/vnd.databricks.v1+cell": {
     "cellMetadata": {
      "byteLimit": 2048000,
      "rowLimit": 10000
     },
     "inputWidgets": {},
     "nuid": "267bd9aa-7abe-4616-a0a7-9a8eee116c17",
     "showTitle": false,
     "title": ""
    }
   },
   "outputs": [],
   "source": [
    "#Fazer request dos dados\n",
    "\n",
    "s_tema = \"diabetes\"\n",
    "s_from = \"2024-09-22\"\n",
    "s_to = \"2024-10-17\"\n",
    "s_language = \"pt\"\n",
    "s_sortBy = \"publishedAt\" # \"publishedAt\" or \"popularity\" or \"relevancy\"\n",
    "\n",
    "url = ('https://newsapi.org/v2/everything?'\n",
    "       f'q={s_tema}&'\n",
    "       f'from={s_from}&'\n",
    "       f'to={s_to}&'\n",
    "       f'language={s_language}&'\n",
    "       f'sortBy={s_sortBy}&'\n",
    "       f'apiKey={API_KEY}')\n",
    "\n",
    "print(url)\n",
    "response = requests.get(url)"
   ]
  },
  {
   "cell_type": "code",
   "execution_count": 0,
   "metadata": {
    "application/vnd.databricks.v1+cell": {
     "cellMetadata": {
      "byteLimit": 2048000,
      "rowLimit": 10000
     },
     "inputWidgets": {},
     "nuid": "2888514f-1564-43f2-bee8-46e451dd3cd9",
     "showTitle": false,
     "title": ""
    }
   },
   "outputs": [],
   "source": [
    "artigos = response.json()\n",
    "print(artigos)"
   ]
  },
  {
   "cell_type": "code",
   "execution_count": 0,
   "metadata": {
    "application/vnd.databricks.v1+cell": {
     "cellMetadata": {
      "byteLimit": 2048000,
      "rowLimit": 10000
     },
     "inputWidgets": {},
     "nuid": "9769b222-f135-4c91-b636-c736825b7d39",
     "showTitle": false,
     "title": ""
    }
   },
   "outputs": [],
   "source": [
    "#gravar em um df spark\n",
    "lista_dados = []\n",
    "\n",
    "for artigo in artigos[\"articles\"]:\n",
    "  artigo[\"source\"] = artigo[\"source\"][\"name\"]\n",
    "  lista_dados.append(artigo)\n",
    "\n",
    "df = spark.createDataFrame(lista_dados)"
   ]
  },
  {
   "cell_type": "code",
   "execution_count": 0,
   "metadata": {
    "application/vnd.databricks.v1+cell": {
     "cellMetadata": {
      "byteLimit": 2048000,
      "rowLimit": 10000
     },
     "inputWidgets": {},
     "nuid": "fe8fba67-aab5-4eb8-9bef-a214d1d04894",
     "showTitle": false,
     "title": ""
    }
   },
   "outputs": [],
   "source": [
    "df.count()"
   ]
  },
  {
   "cell_type": "code",
   "execution_count": 0,
   "metadata": {
    "application/vnd.databricks.v1+cell": {
     "cellMetadata": {
      "byteLimit": 2048000,
      "rowLimit": 10000
     },
     "inputWidgets": {},
     "nuid": "f6ec5bbc-9e81-4104-b10a-ab2bddf9e469",
     "showTitle": false,
     "title": ""
    }
   },
   "outputs": [],
   "source": [
    "# delta_table = spark.read.format(\"delta\").load(\"/FileStore/diabetes\")\n",
    "# display(delta_table)"
   ]
  },
  {
   "cell_type": "code",
   "execution_count": 0,
   "metadata": {
    "application/vnd.databricks.v1+cell": {
     "cellMetadata": {
      "byteLimit": 2048000,
      "rowLimit": 10000
     },
     "inputWidgets": {},
     "nuid": "aacc7468-a1ec-47c3-8dfa-dca86d32b5e8",
     "showTitle": false,
     "title": ""
    }
   },
   "outputs": [],
   "source": [
    "delta_table_path = \"/FileStore/diabetes\"\n",
    "if DeltaTable.isDeltaTable(spark, delta_table_path):\n",
    "    #Merge de arquivos não duplicados\n",
    "\n",
    "    # Carregar a tabela Delta com notícias previamente armazenadas\n",
    "    delta_table = DeltaTable.forPath(spark, \"/FileStore/diabetes\")\n",
    "\n",
    "    # Criar DataFrame com novas notícias\n",
    "    novas_noticias_df = df\n",
    "\n",
    " # Usar o MERGE para inserir apenas as notícias que ainda não existem\n",
    "    delta_table.alias(\"old\").merge(\n",
    "        novas_noticias_df.alias(\"new\"),\n",
    "        \"old.url = new.url AND old.publishedAt = new.publishedAt\"\n",
    "    ).whenNotMatchedInsertAll().execute()\n",
    "\n",
    "else:\n",
    "    #Salvar em delta\n",
    "    df.write.format(\"delta\").save(\"/FileStore/diabetes\")"
   ]
  },
  {
   "cell_type": "code",
   "execution_count": 0,
   "metadata": {
    "application/vnd.databricks.v1+cell": {
     "cellMetadata": {
      "byteLimit": 2048000,
      "rowLimit": 10000
     },
     "inputWidgets": {},
     "nuid": "f551918f-77d7-40b7-8872-f6635913136a",
     "showTitle": false,
     "title": ""
    }
   },
   "outputs": [],
   "source": [
    "delta_table = spark.read.format(\"delta\").load(\"/FileStore/diabetes\")"
   ]
  },
  {
   "cell_type": "code",
   "execution_count": 0,
   "metadata": {
    "application/vnd.databricks.v1+cell": {
     "cellMetadata": {
      "byteLimit": 2048000,
      "rowLimit": 10000
     },
     "inputWidgets": {},
     "nuid": "9e88d13c-bb06-412a-81b3-b0f54167ea44",
     "showTitle": false,
     "title": ""
    }
   },
   "outputs": [],
   "source": []
  },
  {
   "cell_type": "code",
   "execution_count": 0,
   "metadata": {
    "application/vnd.databricks.v1+cell": {
     "cellMetadata": {
      "byteLimit": 2048000,
      "rowLimit": 10000
     },
     "inputWidgets": {},
     "nuid": "bbdfbfff-03cd-489b-8dfa-aefdbc130180",
     "showTitle": false,
     "title": ""
    }
   },
   "outputs": [],
   "source": [
    "# Removendo o caractere \"Z\" do final da string e convertendo para timestamp\n",
    "df = delta_table\n",
    "\n",
    "df = df.withColumn(\"publishedAt\", to_timestamp(regexp_replace(\"publishedAt\", \"Z$\", \"\"), \"yyyy-MM-dd'T'HH:mm:ss\"))\n",
    "\n",
    "# Extraindo o ano, mês e dia\n",
    "df = df.withColumn(\"year\", year(\"publishedAt\")) \\\n",
    "       .withColumn(\"month\", month(\"publishedAt\")) \\\n",
    "       .withColumn(\"day\", dayofmonth(\"publishedAt\"))"
   ]
  },
  {
   "cell_type": "code",
   "execution_count": 0,
   "metadata": {
    "application/vnd.databricks.v1+cell": {
     "cellMetadata": {
      "byteLimit": 2048000,
      "rowLimit": 10000
     },
     "inputWidgets": {},
     "nuid": "0268e342-f84f-440c-986a-a67760d643bf",
     "showTitle": false,
     "title": ""
    }
   },
   "outputs": [],
   "source": [
    "display(df)"
   ]
  },
  {
   "cell_type": "code",
   "execution_count": 0,
   "metadata": {
    "application/vnd.databricks.v1+cell": {
     "cellMetadata": {
      "byteLimit": 2048000,
      "rowLimit": 10000
     },
     "inputWidgets": {},
     "nuid": "52d59bf2-60ff-4555-a13d-e82801ec4e2b",
     "showTitle": false,
     "title": ""
    }
   },
   "outputs": [],
   "source": [
    "df.printSchema()"
   ]
  },
  {
   "cell_type": "code",
   "execution_count": 0,
   "metadata": {
    "application/vnd.databricks.v1+cell": {
     "cellMetadata": {
      "byteLimit": 2048000,
      "rowLimit": 10000
     },
     "inputWidgets": {},
     "nuid": "5e7acb48-762c-4c21-b7f0-65b9958a91f9",
     "showTitle": false,
     "title": ""
    }
   },
   "outputs": [],
   "source": [
    "# 2. Contar o número de artigos por ano\n",
    "artigos_por_ano = df.groupBy(\"year\").count()\n",
    "artigos_por_ano.show()"
   ]
  },
  {
   "cell_type": "code",
   "execution_count": 0,
   "metadata": {
    "application/vnd.databricks.v1+cell": {
     "cellMetadata": {
      "byteLimit": 2048000,
      "rowLimit": 10000
     },
     "inputWidgets": {},
     "nuid": "787c6bbf-74c0-424d-b2a0-41f9501b9dee",
     "showTitle": false,
     "title": ""
    }
   },
   "outputs": [],
   "source": [
    "artigos_por_month = df.groupBy(\"month\").count()\n",
    "artigos_por_month.show()"
   ]
  },
  {
   "cell_type": "code",
   "execution_count": 0,
   "metadata": {
    "application/vnd.databricks.v1+cell": {
     "cellMetadata": {
      "byteLimit": 2048000,
      "rowLimit": 10000
     },
     "inputWidgets": {},
     "nuid": "79652fda-b383-4140-b30e-7cc8a72caafa",
     "showTitle": false,
     "title": ""
    }
   },
   "outputs": [],
   "source": [
    "artigos_por_month = df.groupBy(\"day\").count()\n",
    "artigos_por_month.show()"
   ]
  },
  {
   "cell_type": "code",
   "execution_count": 0,
   "metadata": {
    "application/vnd.databricks.v1+cell": {
     "cellMetadata": {
      "byteLimit": 2048000,
      "rowLimit": 10000
     },
     "inputWidgets": {},
     "nuid": "fc733f54-2a41-4aab-bc68-42efd930f75c",
     "showTitle": false,
     "title": ""
    }
   },
   "outputs": [],
   "source": [
    "type(df)"
   ]
  },
  {
   "cell_type": "code",
   "execution_count": 0,
   "metadata": {
    "application/vnd.databricks.v1+cell": {
     "cellMetadata": {
      "byteLimit": 2048000,
      "rowLimit": 10000
     },
     "inputWidgets": {},
     "nuid": "0ad69462-fc49-42a5-9532-0e9724e44eb2",
     "showTitle": false,
     "title": ""
    }
   },
   "outputs": [],
   "source": [
    "# 4. Agrupar por `source` e contar o número de artigos por fonte\n",
    "artigos_por_fonte = df.groupBy(\"source\").count()\n",
    "artigos_por_fonte.show()"
   ]
  },
  {
   "cell_type": "code",
   "execution_count": 0,
   "metadata": {
    "application/vnd.databricks.v1+cell": {
     "cellMetadata": {
      "byteLimit": 2048000,
      "rowLimit": 10000
     },
     "inputWidgets": {},
     "nuid": "749b6721-75c3-493c-bf1b-f4a661249948",
     "showTitle": false,
     "title": ""
    }
   },
   "outputs": [],
   "source": [
    "import matplotlib.pyplot as plt\n",
    "\n",
    "# Coletar os dados em uma lista ou transformar em Pandas DataFrame (se for PySpark DataFrame)\n",
    "artigos_por_fonte_df = artigos_por_fonte.toPandas()  # Se estiver usando PySpark, caso contrário ignore esta linha\n",
    "\n",
    "# Ordenar os dados pelo maior valor\n",
    "artigos_por_fonte_df = artigos_por_fonte_df.sort_values(by='count', ascending=True)\n",
    "\n",
    "# Plotar gráfico de barras horizontal\n",
    "plt.figure(figsize=(10,6))\n",
    "plt.barh(artigos_por_fonte_df['source'], artigos_por_fonte_df['count'], color='skyblue')\n",
    "plt.xlabel('Número de Artigos')\n",
    "plt.ylabel('Fonte (Source)')\n",
    "plt.title('Número de Artigos por Fonte')\n",
    "plt.tight_layout()\n",
    "\n",
    "# Exibir gráfico\n",
    "plt.show()\n"
   ]
  },
  {
   "cell_type": "code",
   "execution_count": 0,
   "metadata": {
    "application/vnd.databricks.v1+cell": {
     "cellMetadata": {
      "byteLimit": 2048000,
      "rowLimit": 10000
     },
     "inputWidgets": {},
     "nuid": "fc5d2451-c591-4640-962b-f3ad1d3a387c",
     "showTitle": false,
     "title": ""
    }
   },
   "outputs": [],
   "source": [
    "artigos_por_fonte = df.groupBy(\"author\").count()\n",
    "artigos_por_fonte.show()"
   ]
  },
  {
   "cell_type": "code",
   "execution_count": 0,
   "metadata": {
    "application/vnd.databricks.v1+cell": {
     "cellMetadata": {
      "byteLimit": 2048000,
      "rowLimit": 10000
     },
     "inputWidgets": {},
     "nuid": "18820cd7-d8ce-442b-9c10-cbff8f69b943",
     "showTitle": false,
     "title": ""
    }
   },
   "outputs": [],
   "source": [
    "display(df)"
   ]
  },
  {
   "cell_type": "code",
   "execution_count": 0,
   "metadata": {
    "application/vnd.databricks.v1+cell": {
     "cellMetadata": {
      "byteLimit": 2048000,
      "rowLimit": 10000
     },
     "inputWidgets": {},
     "nuid": "b5cc8849-17a5-420b-bea2-c3c0f759c247",
     "showTitle": false,
     "title": ""
    }
   },
   "outputs": [],
   "source": [
    "\n",
    "keywords = [\"diabete\", \"nacion\", \"not\"]\n",
    "\n",
    "# Contar a quantidade de aparições das palavras-chave\n",
    "for keyword in keywords:\n",
    "    df = df.withColumn(f\"{keyword}_count\", (\n",
    "        lower(col(\"content\")).contains(keyword).cast(\"int\") +\n",
    "        lower(col(\"description\")).contains(keyword).cast(\"int\") +\n",
    "        lower(col(\"title\")).contains(keyword).cast(\"int\")\n",
    "    ))\n",
    "resultado = df.groupBy(\"year\", \"month\", \"day\") \\\n",
    "              .agg(\n",
    "                  *[F.sum(f\"{keyword}_count\").alias(f\"{keyword}_appearances\") for keyword in keywords]\n",
    "              )"
   ]
  }
 ],
 "metadata": {
  "application/vnd.databricks.v1+notebook": {
   "dashboards": [],
   "environmentMetadata": null,
   "language": "python",
   "notebookMetadata": {
    "pythonIndentUnit": 4
   },
   "notebookName": "notebook_v1",
   "widgets": {}
  },
  "language_info": {
   "name": "python"
  }
 },
 "nbformat": 4,
 "nbformat_minor": 0
}
